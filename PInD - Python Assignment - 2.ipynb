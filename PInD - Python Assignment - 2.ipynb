{
 "cells": [
  {
   "cell_type": "markdown",
   "metadata": {},
   "source": [
    "1.1 Write a Python Program to implement your own myreduce() function which works exactly\n",
    "like Python's built-in function reduce()"
   ]
  },
  {
   "cell_type": "code",
   "execution_count": 6,
   "metadata": {},
   "outputs": [],
   "source": [
    "def myreduce(function, my_list): #Reduce function gives only a single output, keeping this in mind.\n",
    "    res = my_list[0]   # Getting first item of list in sequence and assign to result\n",
    "    for item in my_list[1:]:     # iterate over remaining items in sequence \n",
    "        res = function(res, item)  #apply reduction function\n",
    "    return res"
   ]
  },
  {
   "cell_type": "code",
   "execution_count": 7,
   "metadata": {},
   "outputs": [],
   "source": [
    "def mul(x,y): return x*y # defining a small function of calculating multiplication of 2 integers"
   ]
  },
  {
   "cell_type": "code",
   "execution_count": 8,
   "metadata": {},
   "outputs": [
    {
     "data": {
      "text/plain": [
       "6"
      ]
     },
     "execution_count": 8,
     "metadata": {},
     "output_type": "execute_result"
    }
   ],
   "source": [
    "myreduce(mul, [1,2,3]) #executing myreduce function"
   ]
  },
  {
   "cell_type": "code",
   "execution_count": null,
   "metadata": {},
   "outputs": [],
   "source": []
  },
  {
   "cell_type": "markdown",
   "metadata": {},
   "source": [
    "1.2 Write a Python program to implement your own myfilter() function which works exactly\n",
    "like Python's built-in function filter()"
   ]
  },
  {
   "cell_type": "code",
   "execution_count": 9,
   "metadata": {},
   "outputs": [],
   "source": [
    "# Custom filter function \n",
    "def myfilter(function, sequence): #defining myfilter() function\n",
    "    result = []                  # creating empty list\n",
    "    for item in sequence:        # iterate over sequence of items in sequence \n",
    "        if function(item):        #applying filter function\n",
    "            result.append(item)   #append the items in result\n",
    "    return result                #return the output"
   ]
  },
  {
   "cell_type": "code",
   "execution_count": 10,
   "metadata": {},
   "outputs": [],
   "source": [
    "def neg(x):     # Creating a function to test myfilter function\n",
    "    if (x <= 0): # if x is negative or 0 return true\n",
    "        return True\n",
    "    else: \n",
    "        return False"
   ]
  },
  {
   "cell_type": "code",
   "execution_count": 11,
   "metadata": {},
   "outputs": [
    {
     "data": {
      "text/plain": [
       "[0, -2, -3, -7]"
      ]
     },
     "execution_count": 11,
     "metadata": {},
     "output_type": "execute_result"
    }
   ],
   "source": [
    "myfilter(neg, [0,1,-2,3,4,-3,-7]) #applying myfilter() function"
   ]
  },
  {
   "cell_type": "code",
   "execution_count": null,
   "metadata": {},
   "outputs": [],
   "source": [
    "      "
   ]
  },
  {
   "cell_type": "markdown",
   "metadata": {},
   "source": [
    "2. Implement List comprehensions to produce the following lists.\n",
    "Write List comprehensions to produce the following Lists"
   ]
  },
  {
   "cell_type": "markdown",
   "metadata": {},
   "source": [
    "['x', 'xx', 'xxx', 'xxxx', 'y', 'yy', 'yyy', 'yyyy', 'z', 'zz', 'zzz', 'zzzz']"
   ]
  },
  {
   "cell_type": "code",
   "execution_count": 12,
   "metadata": {},
   "outputs": [
    {
     "name": "stdout",
     "output_type": "stream",
     "text": [
      "['x', 'xx', 'xxx', 'xxxx', 'y', 'yy', 'yyy', 'yyyy', 'z', 'zz', 'zzz', 'zzzz']\n"
     ]
    }
   ],
   "source": [
    "mylist = ['x','y','z'] # taking a list\n",
    "res = [ item*num for item in mylist for num in range(1,5) ] #applying list comprehension\n",
    "print(res) #printing result"
   ]
  },
  {
   "cell_type": "code",
   "execution_count": null,
   "metadata": {},
   "outputs": [],
   "source": []
  },
  {
   "cell_type": "markdown",
   "metadata": {},
   "source": [
    "['x', 'y', 'z', 'xx', 'yy', 'zz', 'xxx', 'yyy', 'zzz', 'xxxx', 'yyyy', 'zzzz']"
   ]
  },
  {
   "cell_type": "code",
   "execution_count": 13,
   "metadata": {},
   "outputs": [
    {
     "name": "stdout",
     "output_type": "stream",
     "text": [
      "['x', 'y', 'z', 'xx', 'yy', 'zz', 'xxx', 'yyy', 'zzz', 'xxxx', 'yyyy', 'zzzz']\n"
     ]
    }
   ],
   "source": [
    "mylist = ['x','y','z'] # taking a list\n",
    "res = [ item*num for item in range(1,5) for num in mylist ] #applying list comprehension\n",
    "print(res) #printing result"
   ]
  },
  {
   "cell_type": "code",
   "execution_count": null,
   "metadata": {},
   "outputs": [],
   "source": []
  },
  {
   "cell_type": "markdown",
   "metadata": {},
   "source": [
    "[[2], [3], [4], [3], [4], [5], [4], [5], [6]]"
   ]
  },
  {
   "cell_type": "code",
   "execution_count": 15,
   "metadata": {},
   "outputs": [
    {
     "name": "stdout",
     "output_type": "stream",
     "text": [
      "[[2], [3], [4], [3], [4], [5], [4], [5], [6]]\n"
     ]
    }
   ],
   "source": [
    "mylist = [2,3,4]  # taking a list\n",
    "res = [ [item+num] for item in mylist for num in range(0,3)] #applying list comprehension\n",
    "print(res) #printing result"
   ]
  },
  {
   "cell_type": "code",
   "execution_count": null,
   "metadata": {},
   "outputs": [],
   "source": []
  },
  {
   "cell_type": "markdown",
   "metadata": {},
   "source": [
    "[[2, 3, 4, 5], [3, 4, 5, 6],[4, 5, 6, 7], [5, 6, 7, 8]]"
   ]
  },
  {
   "cell_type": "code",
   "execution_count": 5,
   "metadata": {},
   "outputs": [
    {
     "name": "stdout",
     "output_type": "stream",
     "text": [
      "[[2, 3, 4, 5], [3, 4, 5, 6], [4, 5, 6, 7], [5, 6, 7, 8]]\n"
     ]
    }
   ],
   "source": [
    "mylist = [2,3,4,5]   # taking a list\n",
    "res = [ [item+num for item in mylist] for num in range(0,4)]  #applying list comprehension\n",
    "print(res) #printing result"
   ]
  },
  {
   "cell_type": "code",
   "execution_count": null,
   "metadata": {},
   "outputs": [],
   "source": []
  },
  {
   "cell_type": "markdown",
   "metadata": {},
   "source": [
    "[(1, 1), (2, 1), (3, 1), (1, 2), (2, 2), (3, 2), (1, 3), (2, 3), (3, 3)]"
   ]
  },
  {
   "cell_type": "code",
   "execution_count": 17,
   "metadata": {},
   "outputs": [
    {
     "name": "stdout",
     "output_type": "stream",
     "text": [
      "[(1, 1), (2, 1), (3, 1), (1, 2), (2, 2), (3, 2), (1, 3), (2, 3), (3, 3)]\n"
     ]
    }
   ],
   "source": [
    "mylist = [1,2,3]   # taking a list\n",
    "res = [ (num,item) for item in mylist for num in range(1,4)]  #applying list comprehension\n",
    "print(res)   #printing result"
   ]
  },
  {
   "cell_type": "code",
   "execution_count": null,
   "metadata": {},
   "outputs": [],
   "source": []
  },
  {
   "cell_type": "markdown",
   "metadata": {},
   "source": [
    "3. Implement a function longestWord() that takes a list of words and returns the longest one"
   ]
  },
  {
   "cell_type": "code",
   "execution_count": 7,
   "metadata": {},
   "outputs": [],
   "source": [
    "def longestWord(alist):\n",
    "    longest_string = max(alist, key=len)\n",
    "    print(longest_string)"
   ]
  },
  {
   "cell_type": "code",
   "execution_count": 8,
   "metadata": {},
   "outputs": [],
   "source": [
    "l = [\"rfarfaref\",\"urfiuwqfuwqif\"]"
   ]
  },
  {
   "cell_type": "code",
   "execution_count": 11,
   "metadata": {},
   "outputs": [
    {
     "name": "stdout",
     "output_type": "stream",
     "text": [
      "urfiuwqfuwqif\n"
     ]
    }
   ],
   "source": [
    "longestWord(l)"
   ]
  },
  {
   "cell_type": "code",
   "execution_count": null,
   "metadata": {},
   "outputs": [],
   "source": []
  },
  {
   "cell_type": "markdown",
   "metadata": {},
   "source": [
    "TASK 2"
   ]
  },
  {
   "cell_type": "markdown",
   "metadata": {},
   "source": [
    "1.1 Write a Python Program(with class concepts) to find the area of the triangle using the below\n",
    "formula.\n",
    "area = (s*(s-a)*(s-b)*(s-c)) ** 0.5\n",
    "Function to take the length of the sides of triangle from user should be defined in the parent\n",
    "class and function to calculate the area should be defined in subclass.\n",
    "\n"
   ]
  },
  {
   "cell_type": "code",
   "execution_count": 12,
   "metadata": {},
   "outputs": [
    {
     "name": "stdout",
     "output_type": "stream",
     "text": [
      "Please provide length of first side of a triangle = 3\n",
      "Please provide length of second side of a triangle = 4\n",
      "Please provide length of third side of a triangle = 5\n",
      "Area of Triangle is = 6.0\n"
     ]
    }
   ],
   "source": [
    "class ParentClass:                         #Creating Parent Class\n",
    "    def getLengthOfSideOfTriangle(self):  #defining the function for taking the sides of Triangle\n",
    "        values = [\"first\", \"second\", \"third\"]   #defining values for all the three sides\n",
    "        sides = []\n",
    "        for index in values :   #defining for loop to take input for all the three sides\n",
    "            inputValue = input(\"Please provide length of {} side of a triangle = \".format(index))\n",
    "            sides.append((inputValue))\n",
    "        return sides      #returning the statement for asking values for three sides of triangle\n",
    "\n",
    "class ChildClass(ParentClass):   #Creating Sub-class along with the Parent Class\n",
    "    def getAreaOfTriangle(self, lengthOfSideOfTriangle): #Defining function for getting the area of Triangle\n",
    "        a = int(lengthOfSideOfTriangle[0])   # first side\n",
    "        b = int(lengthOfSideOfTriangle[1])  # second side\n",
    "        c = int(lengthOfSideOfTriangle[2])   #thrid side\n",
    "        \n",
    "        s = (a + b + c)/2     # calculating the semi-perimeter of Triangle\n",
    "        \n",
    "        area = (s*(s-a)*(s-b)*(s-c)) ** 0.5  #Calculating the Area of Triangle\n",
    "        print(\"Area of Triangle is = {}\" .format(area))  \n",
    "        \n",
    "childClass = ChildClass()  #creating variable for childclass\n",
    "lengthOfSideOfTriangle = childClass.getLengthOfSideOfTriangle() #creating variable for length of Triangle\n",
    "childClass.getAreaOfTriangle(lengthOfSideOfTriangle) #lenght of sides from Parent class getting called in subclass for calculating the area\n"
   ]
  },
  {
   "cell_type": "code",
   "execution_count": null,
   "metadata": {},
   "outputs": [],
   "source": []
  },
  {
   "cell_type": "code",
   "execution_count": null,
   "metadata": {},
   "outputs": [],
   "source": []
  },
  {
   "cell_type": "markdown",
   "metadata": {},
   "source": [
    "1.2 Write a function filter_long_words() that takes a list of words and an integer n and returns the list of words that are longer than n."
   ]
  },
  {
   "cell_type": "code",
   "execution_count": 13,
   "metadata": {},
   "outputs": [],
   "source": [
    "def filter_long_words(value,string): #defining the function\n",
    "    lastlist = []                   #creating empty list to to append the output in it\n",
    "    text = string.split()             # converting the string into the list\n",
    "    for i in text:              #Applying for loop\n",
    "        if len(i) > value:               #comparing the length of each word with the value\n",
    "            lastlist.append(i)          #adding the findings in empty list\n",
    "    return lastlist                 #returning the empty list"
   ]
  },
  {
   "cell_type": "code",
   "execution_count": 14,
   "metadata": {},
   "outputs": [
    {
     "data": {
      "text/plain": [
       "['Wikipedia',\n",
       " 'online',\n",
       " 'encyclopedia,',\n",
       " 'created',\n",
       " 'edited',\n",
       " 'volunteers',\n",
       " 'around']"
      ]
     },
     "execution_count": 14,
     "metadata": {},
     "output_type": "execute_result"
    }
   ],
   "source": [
    "filter_long_words(5,\"Wikipedia is a free online encyclopedia, created and edited by volunteers around the world\")"
   ]
  },
  {
   "cell_type": "code",
   "execution_count": null,
   "metadata": {},
   "outputs": [],
   "source": []
  },
  {
   "cell_type": "code",
   "execution_count": null,
   "metadata": {},
   "outputs": [],
   "source": []
  },
  {
   "cell_type": "markdown",
   "metadata": {},
   "source": [
    "2.1 Write a Python program using function concept that maps list of words into a list of integers representing the lengths of the corresponding words. Hint: If a list [ ab,cde,erty] is passed on to the python function output should come as [2,3,4] Here 2,3 and 4 are the lengths of the words in the list."
   ]
  },
  {
   "cell_type": "code",
   "execution_count": 15,
   "metadata": {},
   "outputs": [],
   "source": [
    "def lenofword(string):     # defining the function\n",
    "    mylist = []                 #creating empty list\n",
    "    text = string.split()          #coverting string into list\n",
    "    for i in text:                # for every value in string\n",
    "        mylist.append(len(i))     #lenght of each word should get append in mylist\n",
    "    return mylist                 #returning mylist with the length of each word in string\n",
    "\n",
    "\n",
    "\n",
    "###############################################\n",
    "##Taking list as a input## - 2nd Method\n",
    "\n",
    "def lenofword_2(l):    # the input should be a list with string values, no int allowed\n",
    "    mylist = []       #creating empty list\n",
    "    for i in l:            \n",
    "        mylist.append(len(i))\n",
    "    return mylist\n",
    "    \n",
    "#############################################"
   ]
  },
  {
   "cell_type": "code",
   "execution_count": 16,
   "metadata": {},
   "outputs": [
    {
     "data": {
      "text/plain": [
       "[11, 8, 6, 6, 13, 8, 6]"
      ]
     },
     "execution_count": 16,
     "metadata": {},
     "output_type": "execute_result"
    }
   ],
   "source": [
    "lenofword(\";oeinroiqwr oiwiejiw eoiwie oiweid oqiehihwecpoi ewcpowie wqpohe\")"
   ]
  },
  {
   "cell_type": "code",
   "execution_count": 17,
   "metadata": {},
   "outputs": [
    {
     "data": {
      "text/plain": [
       "[7, 9, 3, 2, 23]"
      ]
     },
     "execution_count": 17,
     "metadata": {},
     "output_type": "execute_result"
    }
   ],
   "source": [
    "b = [\"hfwqrfw\",\"wefbiuwbe\",\"lwe\",\"iu\",\"lwueowudeouwedquwegywqd\"]\n",
    "lenofword_2(b)"
   ]
  },
  {
   "cell_type": "code",
   "execution_count": null,
   "metadata": {},
   "outputs": [],
   "source": []
  },
  {
   "cell_type": "code",
   "execution_count": null,
   "metadata": {},
   "outputs": [],
   "source": []
  },
  {
   "cell_type": "markdown",
   "metadata": {},
   "source": [
    "2.2 Write a Python function which takes a character (i.e. a string of length 1) and returns True if it is a vowel, False otherwise."
   ]
  },
  {
   "cell_type": "code",
   "execution_count": 18,
   "metadata": {},
   "outputs": [],
   "source": [
    "def is_vowel(char):\n",
    "    vowels = ('a', 'e', 'i', 'o', 'u')\n",
    "    if char not in vowels:\n",
    "        return False\n",
    "    return True"
   ]
  },
  {
   "cell_type": "code",
   "execution_count": null,
   "metadata": {},
   "outputs": [],
   "source": []
  },
  {
   "cell_type": "code",
   "execution_count": null,
   "metadata": {},
   "outputs": [],
   "source": []
  }
 ],
 "metadata": {
  "kernelspec": {
   "display_name": "Python 3",
   "language": "python",
   "name": "python3"
  },
  "language_info": {
   "codemirror_mode": {
    "name": "ipython",
    "version": 3
   },
   "file_extension": ".py",
   "mimetype": "text/x-python",
   "name": "python",
   "nbconvert_exporter": "python",
   "pygments_lexer": "ipython3",
   "version": "3.7.3"
  }
 },
 "nbformat": 4,
 "nbformat_minor": 2
}
